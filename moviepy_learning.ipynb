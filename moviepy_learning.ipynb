{
 "cells": [
  {
   "cell_type": "code",
   "execution_count": null,
   "metadata": {},
   "outputs": [],
   "source": [
    "# Import everything needed to edit video clips\n",
    "from moviepy.editor import *\n",
    "import matplotlib.pyplot as plt\n",
    "import matplotlib.image as pltimg\n",
    "import random\n",
    "from PIL import Image\n",
    "import numpy as np"
   ]
  },
  {
   "cell_type": "code",
   "execution_count": null,
   "metadata": {},
   "outputs": [],
   "source": [
    "# load a video\n",
    "video_file = \"/Users/zhaojinmin/Desktop/EMER180616-162241-000537.MP4\"\n",
    "clip = VideoFileClip(video_file)"
   ]
  },
  {
   "cell_type": "code",
   "execution_count": null,
   "metadata": {},
   "outputs": [],
   "source": [
    "clip.duration"
   ]
  },
  {
   "cell_type": "code",
   "execution_count": null,
   "metadata": {},
   "outputs": [],
   "source": [
    "image_by_frame = []\n",
    "for fm in clip.iter_frames(fps=10, dtype=np.uint8):\n",
    "  image_by_frame.append(fm)\n",
    "print(len(image_by_frame))"
   ]
  },
  {
   "cell_type": "code",
   "execution_count": null,
   "metadata": {},
   "outputs": [],
   "source": [
    "image_by_frame[0][:, :, 0]"
   ]
  },
  {
   "cell_type": "code",
   "execution_count": null,
   "metadata": {},
   "outputs": [],
   "source": [
    "# try pillow\n",
    "output = Image.fromarray(image_by_frame[0])\n",
    "output.save('./video_images/output.png')\n",
    "# img2 = plt.imread(\"./video_images/output.png\", dtpye=np.uint8)\n",
    "# img2.shape\n",
    "\n",
    "img3 = Image.open(\"./video_images/output.png\")\n",
    "img3 = np.array(img3)\n",
    "img3.shape"
   ]
  },
  {
   "cell_type": "code",
   "execution_count": null,
   "metadata": {},
   "outputs": [],
   "source": [
    "img3[:, :, 0]"
   ]
  },
  {
   "cell_type": "code",
   "execution_count": null,
   "metadata": {},
   "outputs": [],
   "source": [
    "print(image_by_frame[0].shape)\n",
    "pltimg.imsave(\"./video_images/kkk.png\", image_by_frame[0], format=\"png\")\n",
    "img = plt.imread(\"./video_images/kkk.png\")\n",
    "img.shape"
   ]
  },
  {
   "cell_type": "code",
   "execution_count": null,
   "metadata": {},
   "outputs": [],
   "source": [
    "for i in range(100, 150):\n",
    "  output = Image.fromarray(image_by_frame[i])\n",
    "  output.save(\"./video_images/{}.png\".format(i))\n",
    "#   pltimg.imsave(\"./video_images/{}.png\".format(i), image_by_frame[i])"
   ]
  },
  {
   "cell_type": "code",
   "execution_count": null,
   "metadata": {},
   "outputs": [],
   "source": [
    "# Load myHolidays.mp4 and select the subclip 00:00:50 - 00:00:60\n",
    "# clip = VideoFileClip(\"myHolidays.mp4\").subclip(50,60)\n",
    "\n",
    "# Reduce the audio volume (volume x 0.8)\n",
    "clip = clip.volumex(0.8)\n",
    "\n",
    "# Generate a text clip. You can customize the font, color, etc.\n",
    "txt_clip = TextClip(\"My Holidays 2013\",fontsize=70,color='white')\n",
    "\n",
    "# Say that you want it to appear 10s at the center of the screen\n",
    "txt_clip = txt_clip.set_pos('center').set_duration(10)\n",
    "\n",
    "# Overlay the text clip on the first video clip\n",
    "video = CompositeVideoClip([clip, txt_clip])\n",
    "\n",
    "# Write the result to a file (many options available !)\n",
    "video.write_videofile(\"myHolidays_edited.webm\")"
   ]
  },
  {
   "cell_type": "markdown",
   "metadata": {},
   "source": [
    "## problems: \n",
    "\n",
    "### moviepy,OSError: convert: unable to read font `Courier'\n",
    "https://github.com/Zulko/moviepy/issues/36\n",
    "\n",
    "install the font \n",
    "\n",
    "### convert: unable to load module `/usr/local/Cellar/imagemagick/6.9.5-5/lib/ImageMagick//modules-Q16/coders/png.la': file not found @ error/module.c/OpenModule/1302.\n",
    "\n",
    "try and do \n",
    "```\n",
    "brew uninstall imagemagick; \n",
    "brew install imagemagick;\n",
    "```\n",
    "https://github.com/Homebrew/legacy-homebrew/issues/14325\n",
    "\n",
    "\n",
    "\n"
   ]
  },
  {
   "cell_type": "code",
   "execution_count": null,
   "metadata": {},
   "outputs": [],
   "source": []
  }
 ],
 "metadata": {
  "kernelspec": {
   "display_name": "Python 3",
   "language": "python",
   "name": "python3"
  },
  "language_info": {
   "codemirror_mode": {
    "name": "ipython",
    "version": 3
   },
   "file_extension": ".py",
   "mimetype": "text/x-python",
   "name": "python",
   "nbconvert_exporter": "python",
   "pygments_lexer": "ipython3",
   "version": "3.6.5"
  }
 },
 "nbformat": 4,
 "nbformat_minor": 2
}
